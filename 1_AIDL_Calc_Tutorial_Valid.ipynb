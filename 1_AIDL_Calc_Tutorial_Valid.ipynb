{
  "cells": [
    {
      "cell_type": "markdown",
      "id": "a29e64df",
      "metadata": {
        "id": "a29e64df"
      },
      "source": [
        "# 📱 AIDL 계산기 실습 프로젝트 - Android Studio 기반\n",
        "Android Studio Narwhal 2025.1.1에서 AIDL(Android Interface Definition Language)을 이용한 간단한 계산기 서비스 실습 예제입니다."
      ]
    },
    {
      "cell_type": "markdown",
      "source": [
        "##📁 프로젝트 구조\n",
        "\n",
        "AidlCalculator/  \n",
        "├── app/  \n",
        "│   ├── src/  \n",
        "│   │   ├── main/  \n",
        "│   │   │   ├── aidl/  \n",
        "│   │   │   │   └── com/example/aidldemo/ICalcService.aidl  \n",
        "│   │   │   ├── java/com/example/aidldemo/  \n",
        "│   │   │   │   ├── MainActivity.java  \n",
        "│   │   │   │   └── CalcService.java  \n",
        "│   │   │   └── AndroidManifest.xml  \n",
        "│   ├── build.gradle.kts  \n",
        "├── build.gradle.kts  \n",
        "└── settings.gradle.kts  \n"
      ],
      "metadata": {
        "id": "ulDSzcUhjD-c"
      },
      "id": "ulDSzcUhjD-c"
    },
    {
      "cell_type": "markdown",
      "id": "92cd5002",
      "metadata": {
        "id": "92cd5002"
      },
      "source": [
        "## 1️⃣ Android Studio에서 새 프로젝트 생성\n",
        "1. **New Project** > **No Activity** 선택\n",
        "2. 프로젝트 이름: `CalcServiceApp`\n",
        "3. 언어: `Java`\n",
        "4. Minimum SDK: `API 28` 이상\n",
        "5. Finish 클릭"
      ]
    },
    {
      "cell_type": "markdown",
      "id": "0d3c9022",
      "metadata": {
        "id": "0d3c9022"
      },
      "source": [
        "## 2️⃣ AIDL 인터페이스 생성\n"
      ]
    },
    {
      "cell_type": "markdown",
      "source": [
        "### build.gradle.kts 파일 수정"
      ],
      "metadata": {
        "id": "F_jhbO3ikl7k"
      },
      "id": "F_jhbO3ikl7k"
    },
    {
      "cell_type": "code",
      "source": [
        "plugins {\n",
        "    alias(libs.plugins.android.application)\n",
        "}\n",
        "\n",
        "android {\n",
        "    namespace = \"com.example.aidldemo\"\n",
        "    compileSdk = 36\n",
        "\n",
        "    defaultConfig {\n",
        "        applicationId = \"com.example.aidldemo\"\n",
        "        minSdk = 28\n",
        "        targetSdk = 36\n",
        "        versionCode = 1\n",
        "        versionName = \"1.0\"\n",
        "\n",
        "        testInstrumentationRunner = \"androidx.test.runner.AndroidJUnitRunner\"\n",
        "    }\n",
        "\n",
        "    buildTypes {\n",
        "        release {\n",
        "            isMinifyEnabled = false\n",
        "            proguardFiles(\n",
        "                getDefaultProguardFile(\"proguard-android-optimize.txt\"),\n",
        "                \"proguard-rules.pro\"\n",
        "            )\n",
        "        }\n",
        "    }\n",
        "\n",
        "    compileOptions {\n",
        "        sourceCompatibility = JavaVersion.VERSION_11\n",
        "        targetCompatibility = JavaVersion.VERSION_11\n",
        "    }\n",
        "\n",
        "    sourceSets[\"main\"].aidl.srcDirs(\"src/main/aidl\")\n",
        "\n",
        "    // ✅ 여기에 추가!\n",
        "    buildFeatures {\n",
        "        aidl = true\n",
        "    }\n",
        "}\n",
        "\n",
        "dependencies {\n",
        "\n",
        "    implementation(libs.appcompat)\n",
        "    testImplementation(libs.junit)\n",
        "    androidTestImplementation(libs.ext.junit)\n",
        "    androidTestImplementation(libs.espresso.core)\n",
        "}"
      ],
      "metadata": {
        "id": "cq9Xc6_zkVgE"
      },
      "id": "cq9Xc6_zkVgE",
      "execution_count": null,
      "outputs": []
    },
    {
      "cell_type": "markdown",
      "source": [
        "###📄 AIDL 파일 추가\n",
        "com/example/aidldemo 에서 마우스 우클릭 → New > AIDL > AIDL File\n",
        "\n",
        "파일 이름: ICalcService\n",
        "\n",
        "자동 생성된 ICalcService.aidl 열고 아래와 같이 수정:"
      ],
      "metadata": {
        "id": "-F31r_pikbHl"
      },
      "id": "-F31r_pikbHl"
    },
    {
      "cell_type": "code",
      "execution_count": null,
      "id": "0598a91c",
      "metadata": {
        "id": "0598a91c"
      },
      "outputs": [],
      "source": [
        "// ICalcService.aidl\n",
        "package com.example.aidldemo;\n",
        "\n",
        "interface ICalcService {\n",
        "    int add(int a, int b);\n",
        "    int subtract(int a, int b);\n",
        "    int multiply(int a, int b);\n",
        "    int divide(int a, int b);\n",
        "}"
      ]
    },
    {
      "cell_type": "markdown",
      "source": [
        "저장 시 자동으로 ICalcService.java 생성됨 (build/generated/...에 있음)"
      ],
      "metadata": {
        "id": "s9OlgESvk20c"
      },
      "id": "s9OlgESvk20c"
    },
    {
      "cell_type": "markdown",
      "id": "6ccd53bc",
      "metadata": {
        "id": "6ccd53bc"
      },
      "source": [
        "## 3️⃣ AIDL 서비스 구현 (`CalcService.java`)"
      ]
    },
    {
      "cell_type": "markdown",
      "source": [
        "###📄 CalcService.java 생성\n",
        "\n",
        "1. java/com.example.aidldemo 폴더에서 마우스 우클릭 → New > Java Class → 이름: CalcService\n",
        "\n",
        "2. 아래 코드 입력:"
      ],
      "metadata": {
        "id": "6H50SY2yk8Rn"
      },
      "id": "6H50SY2yk8Rn"
    },
    {
      "cell_type": "code",
      "execution_count": null,
      "id": "b1ef9657",
      "metadata": {
        "id": "b1ef9657"
      },
      "outputs": [],
      "source": [
        "package com.example.aidldemo;\n",
        "\n",
        "import android.app.Activity;\n",
        "import android.content.ComponentName;\n",
        "import android.content.Context;\n",
        "import android.content.Intent;\n",
        "import android.content.ServiceConnection;\n",
        "import android.os.Bundle;\n",
        "import android.os.IBinder;\n",
        "import android.util.Log;\n",
        "\n",
        "public class MainActivity extends Activity {\n",
        "    ICalcService calcService;\n",
        "\n",
        "    private ServiceConnection connection = new ServiceConnection() {\n",
        "        public void onServiceConnected(ComponentName name, IBinder service) {\n",
        "            calcService = ICalcService.Stub.asInterface(service);\n",
        "            try {\n",
        "                int result = calcService.subtract(10, 5);\n",
        "                Log.d(\"CalcClient\", \"Result from service: \" + result);\n",
        "            } catch (Exception e) {\n",
        "                Log.e(\"CalcClient\", \"Error: \", e);\n",
        "            }\n",
        "        }\n",
        "        public void onServiceDisconnected(ComponentName name) {\n",
        "            calcService = null;\n",
        "        }\n",
        "    };\n",
        "\n",
        "    @Override\n",
        "    protected void onCreate(Bundle savedInstanceState) {\n",
        "        super.onCreate(savedInstanceState);\n",
        "        Intent intent = new Intent(\"com.example.aidldemo.CalcService\");\n",
        "        intent.setPackage(\"com.example.aidldemo\");\n",
        "        bindService(intent, connection, Context.BIND_AUTO_CREATE);\n",
        "    }\n",
        "}\n"
      ]
    },
    {
      "cell_type": "markdown",
      "id": "2f53507a",
      "metadata": {
        "id": "2f53507a"
      },
      "source": [
        "## 4️⃣ AndroidManifest.xml 설정"
      ]
    },
    {
      "cell_type": "markdown",
      "source": [
        "###📄 AndroidManifest.xml에 서비스 등록"
      ],
      "metadata": {
        "id": "N7iNUZ9GlHwL"
      },
      "id": "N7iNUZ9GlHwL"
    },
    {
      "cell_type": "code",
      "execution_count": null,
      "id": "03ef53fb",
      "metadata": {
        "id": "03ef53fb"
      },
      "outputs": [],
      "source": [
        "<manifest xmlns:android=\"http://schemas.android.com/apk/res/android\"\n",
        "    package=\"com.example.aidldemo\">\n",
        "\n",
        "    <permission\n",
        "        android:name=\"com.example.aidldemo.permission.BIND_CALC_SERVICE\"\n",
        "        android:protectionLevel=\"normal\" />\n",
        "\n",
        "    <application\n",
        "        android:label=\"AIDL Java App\">\n",
        "        <activity android:name=\".MainActivity\"\n",
        "            android:exported=\"true\">\n",
        "            <intent-filter>\n",
        "                <action android:name=\"android.intent.action.MAIN\"/>\n",
        "                <category android:name=\"android.intent.category.LAUNCHER\"/>\n",
        "            </intent-filter>\n",
        "        </activity>\n",
        "\n",
        "        <!-- 🧠 서비스 등록 -->\n",
        "        <service\n",
        "            android:name=\".CalcService\"\n",
        "            android:exported=\"true\"\n",
        "            android:permission=\"com.example.aidldemo.permission.BIND_CALC_SERVICE\">\n",
        "\n",
        "            <intent-filter>\n",
        "                <action android:name=\"com.example.aidldemo.CalcService\" />\n",
        "            </intent-filter>\n",
        "        </service>\n",
        "    </application>\n",
        "</manifest>\n"
      ]
    },
    {
      "cell_type": "markdown",
      "id": "cb226c67",
      "metadata": {
        "id": "cb226c67"
      },
      "source": [
        "## 5️⃣ 클라이언트 앱 구현 (`MainActivity.java`)"
      ]
    },
    {
      "cell_type": "markdown",
      "source": [
        "###📄 MainActivity.java 수정"
      ],
      "metadata": {
        "id": "PIc1etm8lL2i"
      },
      "id": "PIc1etm8lL2i"
    },
    {
      "cell_type": "code",
      "execution_count": null,
      "id": "23f48cbf",
      "metadata": {
        "id": "23f48cbf"
      },
      "outputs": [],
      "source": [
        "package com.example.aidldemo;\n",
        "\n",
        "import android.app.Activity;\n",
        "import android.content.ComponentName;\n",
        "import android.content.Context;\n",
        "import android.content.Intent;\n",
        "import android.content.ServiceConnection;\n",
        "import android.os.Bundle;\n",
        "import android.os.IBinder;\n",
        "import android.util.Log;\n",
        "\n",
        "public class MainActivity extends Activity {\n",
        "    ICalcService calcService;\n",
        "\n",
        "    private ServiceConnection connection = new ServiceConnection() {\n",
        "        public void onServiceConnected(ComponentName name, IBinder service) {\n",
        "            calcService = ICalcService.Stub.asInterface(service);\n",
        "            try {\n",
        "                int result = calcService.add(10, 5);\n",
        "                Log.d(\"CalcClient\", \"Result from service: \" + result);\n",
        "            } catch (Exception e) {\n",
        "                Log.e(\"CalcClient\", \"Error: \", e);\n",
        "            }\n",
        "        }\n",
        "        public void onServiceDisconnected(ComponentName name) {\n",
        "            calcService = null;\n",
        "        }\n",
        "    };\n",
        "\n",
        "    @Override\n",
        "    protected void onCreate(Bundle savedInstanceState) {\n",
        "        super.onCreate(savedInstanceState);\n",
        "        Intent intent = new Intent(\"com.example.aidldemo.CalcService\");\n",
        "        intent.setPackage(\"com.example.aidldemo\");\n",
        "        bindService(intent, connection, Context.BIND_AUTO_CREATE);\n",
        "    }\n",
        "}"
      ]
    },
    {
      "cell_type": "markdown",
      "id": "e8ef2a45",
      "metadata": {
        "id": "e8ef2a45"
      },
      "source": [
        "## 6️⃣ 실행 방법\n",
        "- Android Studio에서 ctrl + F9 로 실행\n",
        "- `Logcat`에서 결과 확인\n",
        "\n",
        "**예상 로그:**\n",
        "```bash\n",
        "CalcClient: Result from service: 15\n",
        "```"
      ]
    },
    {
      "cell_type": "code",
      "source": [],
      "metadata": {
        "id": "k40uaT-ollMT"
      },
      "id": "k40uaT-ollMT",
      "execution_count": null,
      "outputs": []
    }
  ],
  "metadata": {
    "colab": {
      "provenance": []
    }
  },
  "nbformat": 4,
  "nbformat_minor": 5
}