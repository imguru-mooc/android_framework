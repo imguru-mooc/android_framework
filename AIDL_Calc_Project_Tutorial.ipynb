{
 "cells": [
  {
   "cell_type": "markdown",
   "metadata": {},
   "source": [
    "# AIDL 계산기 프로젝트 실습 가이드 (Android Studio + Java)
",
    "
",
    "이 노트북은 Android Studio Narwhal 2025.1.1 기준으로 AIDL 인터페이스를 이용한 간단한 계산기 서비스를 실습하는 전체 과정을 설명합니다."
   ]
  },
  {
   "cell_type": "markdown",
   "metadata": {},
   "source": [
    "## 📁 프로젝트 구조 개요
",
    "
",
    "```
",
    "AidlCalcSample/
",
    "├── CalcServiceApp/         # AIDL 서비스 제공 앱
",
    "│   ├── src/main/aidl/com/example/aidldemo/ICalcService.aidl
",
    "│   └── src/main/java/com/example/aidldemo/CalcService.java
",
    "└── CalcClientApp/          # 클라이언트 앱
",
    "    └── src/main/java/com/example/aidldemo/MainActivity.java
",
    "```"
   ]
  },
  {
   "cell_type": "markdown",
   "metadata": {},
   "source": [
    "## 🔧 Step 1. Android Studio에서 프로젝트 생성
",
    "
",
    "1. Android Studio 실행 → **New Project** → **Empty Views Activity** 선택
",
    "2. 프로젝트 이름: `AidlCalcSample`
",
    "3. 언어: Java
",
    "4. Minimum SDK: API 28 이상
",
    "
",
    "→ `CalcServiceApp`, `CalcClientApp` 모듈을 수동으로 추가하거나 별도 프로젝트로 나눌 수 있음"
   ]
  },
  {
   "cell_type": "markdown",
   "metadata": {},
   "source": [
    "## 🧩 Step 2. AIDL 파일 생성
",
    "
",
    "```
",
    "File > New > AIDL > AIDL File 이 비활성화되면 `aidl` 폴더를 수동 생성
",
    "```
",
    "
",
    "**`CalcServiceApp/src/main/aidl/com/example/aidldemo/ICalcService.aidl`**:
",
    "```aidl
",
    "package com.example.aidldemo;
",
    "
",
    "interface ICalcService {
",
    "    int add(int a, int b);
",
    "    int subtract(int a, int b);
",
    "    int multiply(int a, int b);
",
    "    int divide(int a, int b);
",
    "}
",
    "```"
   ]
  },
  {
   "cell_type": "markdown",
   "metadata": {},
   "source": [
    "## 🧠 Step 3. 서비스 구현
",
    "
",
    "**`CalcServiceApp/src/main/java/com/example/aidldemo/CalcService.java`**:
",
    "```java
",
    "package com.example.aidldemo;
",
    "
",
    "import android.app.Service;
",
    "import android.content.Intent;
",
    "import android.os.IBinder;
",
    "
",
    "public class CalcService extends Service {
",
    "    @Override
",
    "    public IBinder onBind(Intent intent) {
",
    "        return new ICalcService.Stub() {
",
    "            public int add(int a, int b) { return a + b; }
",
    "            public int subtract(int a, int b) { return a - b; }
",
    "            public int multiply(int a, int b) { return a * b; }
",
    "            public int divide(int a, int b) { return a / b; }
",
    "        };
",
    "    }
",
    "}
",
    "```"
   ]
  },
  {
   "cell_type": "markdown",
   "metadata": {},
   "source": [
    "## 📜 Step 4. AndroidManifest.xml에 서비스 등록 및 권한 정의
",
    "
",
    "**권한 정의**
",
    "```xml
",
    "<permission
",
    "    android:name="com.example.aidldemo.permission.BIND_CALC_SERVICE"
",
    "    android:protectionLevel="signature" />
",
    "```
",
    "**서비스 등록**
",
    "```xml
",
    "<service
",
    "    android:name=".CalcService"
",
    "    android:exported="true"
",
    "    android:permission="com.example.aidldemo.permission.BIND_CALC_SERVICE" />
",
    "```"
   ]
  },
  {
   "cell_type": "markdown",
   "metadata": {},
   "source": [
    "## 📱 Step 5. 클라이언트 MainActivity.java
",
    "
",
    "**`CalcClientApp/src/main/java/com/example/aidldemo/MainActivity.java`**
",
    "```java
",
    "package com.example.aidldemo;
",
    "
",
    "import android.app.Activity;
",
    "import android.content.ComponentName;
",
    "import android.content.Context;
",
    "import android.content.Intent;
",
    "import android.content.ServiceConnection;
",
    "import android.os.Bundle;
",
    "import android.os.IBinder;
",
    "import android.util.Log;
",
    "
",
    "public class MainActivity extends Activity {
",
    "    ICalcService calcService;
",
    "
",
    "    private ServiceConnection connection = new ServiceConnection() {
",
    "        public void onServiceConnected(ComponentName name, IBinder service) {
",
    "            calcService = ICalcService.Stub.asInterface(service);
",
    "            try {
",
    "                int result = calcService.add(10, 5);
",
    "                Log.d("CalcClient", "Result from service: " + result);
",
    "            } catch (Exception e) {
",
    "                Log.e("CalcClient", "Error:", e);
",
    "            }
",
    "        }
",
    "        public void onServiceDisconnected(ComponentName name) {
",
    "            calcService = null;
",
    "        }
",
    "    };
",
    "
",
    "    @Override
",
    "    protected void onCreate(Bundle savedInstanceState) {
",
    "        super.onCreate(savedInstanceState);
",
    "        Intent intent = new Intent("com.example.aidldemo.CalcService");
",
    "        intent.setPackage("com.example.aidldemo");
",
    "        bindService(intent, connection, Context.BIND_AUTO_CREATE);
",
    "    }
",
    "}
",
    "```"
   ]
  },
  {
   "cell_type": "markdown",
   "metadata": {},
   "source": [
    "## 🔍 Step 6. 실행 및 로그 확인
",
    "
",
    "1. Android Studio > Run ▶ 아이콘 클릭하여 실행
",
    "2. **Logcat** 탭 열기 → `CalcClient` 또는 `Result from service`로 검색
",
    "
",
    "예상 로그:
",
    "```
",
    "D/CalcClient: Result from service: 15
",
    "```"
   ]
  }
 ],
 "metadata": {
  "kernelspec": {
   "display_name": "Python 3",
   "language": "python",
   "name": "python3"
  },
  "language_info": {
   "name": "python",
   "version": "3.10"
  }
 },
 "nbformat": 4,
 "nbformat_minor": 5
}
